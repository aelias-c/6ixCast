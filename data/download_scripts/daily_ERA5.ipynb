{
 "cells": [
  {
   "cell_type": "markdown",
   "metadata": {},
   "source": [
    "# Background information\n",
    "\n",
    "ERA5 data downloaded from google..."
   ]
  },
  {
   "cell_type": "markdown",
   "metadata": {},
   "source": [
    "# Retrieve Training Data Module\n",
    "\n",
    "To download post-processed ERA5 data, you will need functions from the retrieve_training_data.py module. The key function within this module is:\n",
    "\n",
    "`retrieve_annual_training_data`: Download annual files containing weekly statistics for temperature (tas), mean sea level pressure (mslp) or precipitation (pr)."
   ]
  },
  {
   "cell_type": "code",
   "execution_count": 1,
   "metadata": {},
   "outputs": [],
   "source": [
    "import cdsapi\n",
    "import sys"
   ]
  },
  {
   "cell_type": "code",
   "execution_count": 2,
   "metadata": {},
   "outputs": [],
   "source": [
    "def loop_download(years, variables, data_loc='/users/jk/22/6ixCast/data/postprocessed_ERA5/'):\n",
    "    '''\n",
    "    Wrapper around the cdsapi call to download data from Copernicus Data Store.\n",
    "\n",
    "    years(array_like): years in the range [1979, 2024]\n",
    "    variables(array_like): subset of \"z500\", \"pr\", \"tas\", \"mslp\"\n",
    "    '''\n",
    "\n",
    "    dataset_name = {'z500': 'derived-era5-pressure-levels-daily-statistics'}\n",
    "    variable_name = {'z500':'geopotential'}\n",
    "\n",
    "    for year in years:\n",
    "        for variable in variables:\n",
    "            \n",
    "            dataset = dataset_name[variable]\n",
    "            request = {\n",
    "                \"product_type\": \"reanalysis\",\n",
    "                \"variable\": [variable_name[variable]],\n",
    "                \"year\": str(year),\n",
    "                \"month\": [\n",
    "                    \"01\", \"02\", \"03\",\n",
    "                    \"04\", \"05\", \"06\",\n",
    "                    \"07\", \"08\", \"09\",\n",
    "                    \"10\", \"11\", \"12\"\n",
    "                ],\n",
    "                \"day\": [\n",
    "                    \"01\", \"02\", \"03\",\n",
    "                    \"04\", \"05\", \"06\",\n",
    "                    \"07\", \"08\", \"09\",\n",
    "                    \"10\", \"11\", \"12\",\n",
    "                    \"13\", \"14\", \"15\",\n",
    "                    \"16\", \"17\", \"18\",\n",
    "                    \"19\", \"20\", \"21\",\n",
    "                    \"22\", \"23\", \"24\",\n",
    "                    \"25\", \"26\", \"27\",\n",
    "                    \"28\", \"29\", \"30\",\n",
    "                    \"31\"\n",
    "                ],\n",
    "                \"daily_statistic\": \"daily_mean\",\n",
    "                \"time_zone\": \"utc+00:00\",\n",
    "                \"frequency\": \"1_hourly\"\n",
    "            }\n",
    "\n",
    "            if variable == 'z500':\n",
    "                request['pressure_level'] = '500'\n",
    "\n",
    "            client = cdsapi.Client()\n",
    "            client.retrieve(dataset, request).download()\n",
    "\n",
    "            \n",
    "            "
   ]
  },
  {
   "cell_type": "code",
   "execution_count": null,
   "metadata": {},
   "outputs": [],
   "source": [
    "loop_download([range(2010, 2012)], ['z500'], data_loc='/users/jk/22/6ixCast/data/daily_ERA5/')"
   ]
  },
  {
   "cell_type": "markdown",
   "metadata": {
    "vscode": {
     "languageId": "plaintext"
    }
   },
   "source": []
  }
 ],
 "metadata": {
  "kernelspec": {
   "display_name": "6ixCast",
   "language": "python",
   "name": "python3"
  },
  "language_info": {
   "codemirror_mode": {
    "name": "ipython",
    "version": 3
   },
   "file_extension": ".py",
   "mimetype": "text/x-python",
   "name": "python",
   "nbconvert_exporter": "python",
   "pygments_lexer": "ipython3",
   "version": "undefined.undefined.undefined"
  }
 },
 "nbformat": 4,
 "nbformat_minor": 2
}
