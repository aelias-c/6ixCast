{
 "cells": [
  {
   "cell_type": "markdown",
   "metadata": {},
   "source": [
    "# Background information\n",
    "\n",
    "[source: https://ecmwf-ai-weather-quest.readthedocs.io/en/latest/training_data.html]\n",
    "\n",
    "Participants can use any observational, forecast or reanalysis dataset to develop their AI/ML sub-seasonal forecasting models. To facilitate initial model development, registered participants can download post-processed ERA5 data from ECMWF.\n",
    "\n",
    "The following datasets at a 1.5 degree resolution have been made easily accessible:\n",
    "\n",
    "ERA5 data:\n",
    "- Weekly-mean temperature (K)\n",
    "- Weekly-mean mean sea level pressure (Pa)\n",
    "- Weekly-accumulated total precipitation (mm week-1)\n",
    "\n",
    "**Important**: At the launch of the AI Weather Quest, post-processed training data is available from the 1st January 1979 to 31st December 2024. Updates to training data will be performed with a latency of three months."
   ]
  },
  {
   "cell_type": "markdown",
   "metadata": {},
   "source": [
    "# Retrieve Training Data Module\n",
    "\n",
    "To download post-processed ERA5 data, you will need functions from the retrieve_training_data.py module. The key function within this module is:\n",
    "\n",
    "`retrieve_annual_training_data`: Download annual files containing weekly statistics for temperature (tas), mean sea level pressure (mslp) or precipitation (pr)."
   ]
  },
  {
   "cell_type": "code",
   "execution_count": 16,
   "metadata": {},
   "outputs": [],
   "source": [
    "from AI_WQ_package import retrieve_training_data\n",
    "import os"
   ]
  },
  {
   "cell_type": "code",
   "execution_count": 37,
   "metadata": {},
   "outputs": [],
   "source": [
    "def loop_download(years, variables, data_loc='/users/jk/22/6ixCast/data/ERA5/'):\n",
    "    '''\n",
    "    Wrapper around the AI_WQ_package function \"retrieve_annual training data\"\n",
    "\n",
    "    years(array_like): years in the range [1979, 2024]\n",
    "    variables(array_like): subset of \"pr\", \"tas\", \"mslp\"\n",
    "    '''\n",
    "\n",
    "    for year in years:\n",
    "        for variable in variables:\n",
    "            \n",
    "            retrieve_training_data.retrieve_annual_training_data(year, \n",
    "                                                                variable, \n",
    "                                                                'NegF8LfwK', \n",
    "                                                                local_destination=data_loc+variable)\n",
    "                \n",
    "                "
   ]
  },
  {
   "cell_type": "code",
   "execution_count": null,
   "metadata": {},
   "outputs": [],
   "source": [
    "loop_download(range(1979, 2024), ['pr', 'tas'])"
   ]
  },
  {
   "cell_type": "markdown",
   "metadata": {
    "vscode": {
     "languageId": "plaintext"
    }
   },
   "source": []
  }
 ],
 "metadata": {
  "kernelspec": {
   "display_name": "6ixCast",
   "language": "python",
   "name": "python3"
  },
  "language_info": {
   "codemirror_mode": {
    "name": "ipython",
    "version": 3
   },
   "file_extension": ".py",
   "mimetype": "text/x-python",
   "name": "python",
   "nbconvert_exporter": "python",
   "pygments_lexer": "ipython3",
   "version": "3.13.2"
  }
 },
 "nbformat": 4,
 "nbformat_minor": 2
}
